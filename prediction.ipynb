{
  "nbformat": 4,
  "nbformat_minor": 0,
  "metadata": {
    "colab": {
      "provenance": [],
      "gpuType": "T4"
    },
    "kernelspec": {
      "name": "python3",
      "display_name": "Python 3"
    },
    "language_info": {
      "name": "python"
    },
    "accelerator": "GPU",
    "gpuClass": "standard",
    "widgets": {
      "application/vnd.jupyter.widget-state+json": {
        "89bc0f599266432a8997684ace0eaa35": {
          "model_module": "@jupyter-widgets/controls",
          "model_name": "HBoxModel",
          "model_module_version": "1.5.0",
          "state": {
            "_dom_classes": [],
            "_model_module": "@jupyter-widgets/controls",
            "_model_module_version": "1.5.0",
            "_model_name": "HBoxModel",
            "_view_count": null,
            "_view_module": "@jupyter-widgets/controls",
            "_view_module_version": "1.5.0",
            "_view_name": "HBoxView",
            "box_style": "",
            "children": [
              "IPY_MODEL_28b26050760147c8b04ca3a1bfc088bd",
              "IPY_MODEL_50a6a4901bf045b7bb1c9a5b1dca8365",
              "IPY_MODEL_865bdf3833f546f4ae7445f79b05f5c9"
            ],
            "layout": "IPY_MODEL_fc0114cdd2af4bdc977125eb287e7723"
          }
        },
        "28b26050760147c8b04ca3a1bfc088bd": {
          "model_module": "@jupyter-widgets/controls",
          "model_name": "HTMLModel",
          "model_module_version": "1.5.0",
          "state": {
            "_dom_classes": [],
            "_model_module": "@jupyter-widgets/controls",
            "_model_module_version": "1.5.0",
            "_model_name": "HTMLModel",
            "_view_count": null,
            "_view_module": "@jupyter-widgets/controls",
            "_view_module_version": "1.5.0",
            "_view_name": "HTMLView",
            "description": "",
            "description_tooltip": null,
            "layout": "IPY_MODEL_d3e48985d552446ab4857d8437c7e6d2",
            "placeholder": "​",
            "style": "IPY_MODEL_8ff2fb6abf364b0aafbef9aaaecee666",
            "value": ""
          }
        },
        "50a6a4901bf045b7bb1c9a5b1dca8365": {
          "model_module": "@jupyter-widgets/controls",
          "model_name": "FloatProgressModel",
          "model_module_version": "1.5.0",
          "state": {
            "_dom_classes": [],
            "_model_module": "@jupyter-widgets/controls",
            "_model_module_version": "1.5.0",
            "_model_name": "FloatProgressModel",
            "_view_count": null,
            "_view_module": "@jupyter-widgets/controls",
            "_view_module_version": "1.5.0",
            "_view_name": "ProgressView",
            "bar_style": "success",
            "description": "",
            "description_tooltip": null,
            "layout": "IPY_MODEL_e8b0c2dfcd9e477cb61cc9c30c8f261b",
            "max": 1,
            "min": 0,
            "orientation": "horizontal",
            "style": "IPY_MODEL_611abb99bbb742a8a78bdf7e668029e8",
            "value": 1
          }
        },
        "865bdf3833f546f4ae7445f79b05f5c9": {
          "model_module": "@jupyter-widgets/controls",
          "model_name": "HTMLModel",
          "model_module_version": "1.5.0",
          "state": {
            "_dom_classes": [],
            "_model_module": "@jupyter-widgets/controls",
            "_model_module_version": "1.5.0",
            "_model_name": "HTMLModel",
            "_view_count": null,
            "_view_module": "@jupyter-widgets/controls",
            "_view_module_version": "1.5.0",
            "_view_name": "HTMLView",
            "description": "",
            "description_tooltip": null,
            "layout": "IPY_MODEL_e856f84fff214459982e6eee64a99da1",
            "placeholder": "​",
            "style": "IPY_MODEL_0351050a9ef943e7ace45e58f4cbb65a",
            "value": " 1500/? [10:56&lt;00:00,  2.61it/s]"
          }
        },
        "fc0114cdd2af4bdc977125eb287e7723": {
          "model_module": "@jupyter-widgets/base",
          "model_name": "LayoutModel",
          "model_module_version": "1.2.0",
          "state": {
            "_model_module": "@jupyter-widgets/base",
            "_model_module_version": "1.2.0",
            "_model_name": "LayoutModel",
            "_view_count": null,
            "_view_module": "@jupyter-widgets/base",
            "_view_module_version": "1.2.0",
            "_view_name": "LayoutView",
            "align_content": null,
            "align_items": null,
            "align_self": null,
            "border": null,
            "bottom": null,
            "display": null,
            "flex": null,
            "flex_flow": null,
            "grid_area": null,
            "grid_auto_columns": null,
            "grid_auto_flow": null,
            "grid_auto_rows": null,
            "grid_column": null,
            "grid_gap": null,
            "grid_row": null,
            "grid_template_areas": null,
            "grid_template_columns": null,
            "grid_template_rows": null,
            "height": null,
            "justify_content": null,
            "justify_items": null,
            "left": null,
            "margin": null,
            "max_height": null,
            "max_width": null,
            "min_height": null,
            "min_width": null,
            "object_fit": null,
            "object_position": null,
            "order": null,
            "overflow": null,
            "overflow_x": null,
            "overflow_y": null,
            "padding": null,
            "right": null,
            "top": null,
            "visibility": null,
            "width": null
          }
        },
        "d3e48985d552446ab4857d8437c7e6d2": {
          "model_module": "@jupyter-widgets/base",
          "model_name": "LayoutModel",
          "model_module_version": "1.2.0",
          "state": {
            "_model_module": "@jupyter-widgets/base",
            "_model_module_version": "1.2.0",
            "_model_name": "LayoutModel",
            "_view_count": null,
            "_view_module": "@jupyter-widgets/base",
            "_view_module_version": "1.2.0",
            "_view_name": "LayoutView",
            "align_content": null,
            "align_items": null,
            "align_self": null,
            "border": null,
            "bottom": null,
            "display": null,
            "flex": null,
            "flex_flow": null,
            "grid_area": null,
            "grid_auto_columns": null,
            "grid_auto_flow": null,
            "grid_auto_rows": null,
            "grid_column": null,
            "grid_gap": null,
            "grid_row": null,
            "grid_template_areas": null,
            "grid_template_columns": null,
            "grid_template_rows": null,
            "height": null,
            "justify_content": null,
            "justify_items": null,
            "left": null,
            "margin": null,
            "max_height": null,
            "max_width": null,
            "min_height": null,
            "min_width": null,
            "object_fit": null,
            "object_position": null,
            "order": null,
            "overflow": null,
            "overflow_x": null,
            "overflow_y": null,
            "padding": null,
            "right": null,
            "top": null,
            "visibility": null,
            "width": null
          }
        },
        "8ff2fb6abf364b0aafbef9aaaecee666": {
          "model_module": "@jupyter-widgets/controls",
          "model_name": "DescriptionStyleModel",
          "model_module_version": "1.5.0",
          "state": {
            "_model_module": "@jupyter-widgets/controls",
            "_model_module_version": "1.5.0",
            "_model_name": "DescriptionStyleModel",
            "_view_count": null,
            "_view_module": "@jupyter-widgets/base",
            "_view_module_version": "1.2.0",
            "_view_name": "StyleView",
            "description_width": ""
          }
        },
        "e8b0c2dfcd9e477cb61cc9c30c8f261b": {
          "model_module": "@jupyter-widgets/base",
          "model_name": "LayoutModel",
          "model_module_version": "1.2.0",
          "state": {
            "_model_module": "@jupyter-widgets/base",
            "_model_module_version": "1.2.0",
            "_model_name": "LayoutModel",
            "_view_count": null,
            "_view_module": "@jupyter-widgets/base",
            "_view_module_version": "1.2.0",
            "_view_name": "LayoutView",
            "align_content": null,
            "align_items": null,
            "align_self": null,
            "border": null,
            "bottom": null,
            "display": null,
            "flex": null,
            "flex_flow": null,
            "grid_area": null,
            "grid_auto_columns": null,
            "grid_auto_flow": null,
            "grid_auto_rows": null,
            "grid_column": null,
            "grid_gap": null,
            "grid_row": null,
            "grid_template_areas": null,
            "grid_template_columns": null,
            "grid_template_rows": null,
            "height": null,
            "justify_content": null,
            "justify_items": null,
            "left": null,
            "margin": null,
            "max_height": null,
            "max_width": null,
            "min_height": null,
            "min_width": null,
            "object_fit": null,
            "object_position": null,
            "order": null,
            "overflow": null,
            "overflow_x": null,
            "overflow_y": null,
            "padding": null,
            "right": null,
            "top": null,
            "visibility": null,
            "width": "20px"
          }
        },
        "611abb99bbb742a8a78bdf7e668029e8": {
          "model_module": "@jupyter-widgets/controls",
          "model_name": "ProgressStyleModel",
          "model_module_version": "1.5.0",
          "state": {
            "_model_module": "@jupyter-widgets/controls",
            "_model_module_version": "1.5.0",
            "_model_name": "ProgressStyleModel",
            "_view_count": null,
            "_view_module": "@jupyter-widgets/base",
            "_view_module_version": "1.2.0",
            "_view_name": "StyleView",
            "bar_color": null,
            "description_width": ""
          }
        },
        "e856f84fff214459982e6eee64a99da1": {
          "model_module": "@jupyter-widgets/base",
          "model_name": "LayoutModel",
          "model_module_version": "1.2.0",
          "state": {
            "_model_module": "@jupyter-widgets/base",
            "_model_module_version": "1.2.0",
            "_model_name": "LayoutModel",
            "_view_count": null,
            "_view_module": "@jupyter-widgets/base",
            "_view_module_version": "1.2.0",
            "_view_name": "LayoutView",
            "align_content": null,
            "align_items": null,
            "align_self": null,
            "border": null,
            "bottom": null,
            "display": null,
            "flex": null,
            "flex_flow": null,
            "grid_area": null,
            "grid_auto_columns": null,
            "grid_auto_flow": null,
            "grid_auto_rows": null,
            "grid_column": null,
            "grid_gap": null,
            "grid_row": null,
            "grid_template_areas": null,
            "grid_template_columns": null,
            "grid_template_rows": null,
            "height": null,
            "justify_content": null,
            "justify_items": null,
            "left": null,
            "margin": null,
            "max_height": null,
            "max_width": null,
            "min_height": null,
            "min_width": null,
            "object_fit": null,
            "object_position": null,
            "order": null,
            "overflow": null,
            "overflow_x": null,
            "overflow_y": null,
            "padding": null,
            "right": null,
            "top": null,
            "visibility": null,
            "width": null
          }
        },
        "0351050a9ef943e7ace45e58f4cbb65a": {
          "model_module": "@jupyter-widgets/controls",
          "model_name": "DescriptionStyleModel",
          "model_module_version": "1.5.0",
          "state": {
            "_model_module": "@jupyter-widgets/controls",
            "_model_module_version": "1.5.0",
            "_model_name": "DescriptionStyleModel",
            "_view_count": null,
            "_view_module": "@jupyter-widgets/base",
            "_view_module_version": "1.2.0",
            "_view_name": "StyleView",
            "description_width": ""
          }
        },
        "18bf79a409924fe69cd6ed0a9c32639c": {
          "model_module": "@jupyter-widgets/controls",
          "model_name": "HBoxModel",
          "model_module_version": "1.5.0",
          "state": {
            "_dom_classes": [],
            "_model_module": "@jupyter-widgets/controls",
            "_model_module_version": "1.5.0",
            "_model_name": "HBoxModel",
            "_view_count": null,
            "_view_module": "@jupyter-widgets/controls",
            "_view_module_version": "1.5.0",
            "_view_name": "HBoxView",
            "box_style": "",
            "children": [
              "IPY_MODEL_3fb099d05af54c4eb2d8dd705e8242cb",
              "IPY_MODEL_10e649bac1444b23b4a3ade2d39ed07d",
              "IPY_MODEL_53fa0110f4744baab09d41807fe99e46"
            ],
            "layout": "IPY_MODEL_04f32b8ffba64c40b3a87d818b7292a2"
          }
        },
        "3fb099d05af54c4eb2d8dd705e8242cb": {
          "model_module": "@jupyter-widgets/controls",
          "model_name": "HTMLModel",
          "model_module_version": "1.5.0",
          "state": {
            "_dom_classes": [],
            "_model_module": "@jupyter-widgets/controls",
            "_model_module_version": "1.5.0",
            "_model_name": "HTMLModel",
            "_view_count": null,
            "_view_module": "@jupyter-widgets/controls",
            "_view_module_version": "1.5.0",
            "_view_name": "HTMLView",
            "description": "",
            "description_tooltip": null,
            "layout": "IPY_MODEL_64603924b99b4c6881bd0d0be9a488a0",
            "placeholder": "​",
            "style": "IPY_MODEL_a916ffcf904142b49bfe996c6e6f4f35",
            "value": "100%"
          }
        },
        "10e649bac1444b23b4a3ade2d39ed07d": {
          "model_module": "@jupyter-widgets/controls",
          "model_name": "FloatProgressModel",
          "model_module_version": "1.5.0",
          "state": {
            "_dom_classes": [],
            "_model_module": "@jupyter-widgets/controls",
            "_model_module_version": "1.5.0",
            "_model_name": "FloatProgressModel",
            "_view_count": null,
            "_view_module": "@jupyter-widgets/controls",
            "_view_module_version": "1.5.0",
            "_view_name": "ProgressView",
            "bar_style": "success",
            "description": "",
            "description_tooltip": null,
            "layout": "IPY_MODEL_89ae48c54d2640de914db7a8f0d064f3",
            "max": 200,
            "min": 0,
            "orientation": "horizontal",
            "style": "IPY_MODEL_274a403176fd427aa99e388cbd226748",
            "value": 200
          }
        },
        "53fa0110f4744baab09d41807fe99e46": {
          "model_module": "@jupyter-widgets/controls",
          "model_name": "HTMLModel",
          "model_module_version": "1.5.0",
          "state": {
            "_dom_classes": [],
            "_model_module": "@jupyter-widgets/controls",
            "_model_module_version": "1.5.0",
            "_model_name": "HTMLModel",
            "_view_count": null,
            "_view_module": "@jupyter-widgets/controls",
            "_view_module_version": "1.5.0",
            "_view_name": "HTMLView",
            "description": "",
            "description_tooltip": null,
            "layout": "IPY_MODEL_50ead42441c341998ac103b80174efbb",
            "placeholder": "​",
            "style": "IPY_MODEL_f4aa5527404d4aa1b5dc1968b499801c",
            "value": " 200/200 [00:37&lt;00:00,  6.96it/s]"
          }
        },
        "04f32b8ffba64c40b3a87d818b7292a2": {
          "model_module": "@jupyter-widgets/base",
          "model_name": "LayoutModel",
          "model_module_version": "1.2.0",
          "state": {
            "_model_module": "@jupyter-widgets/base",
            "_model_module_version": "1.2.0",
            "_model_name": "LayoutModel",
            "_view_count": null,
            "_view_module": "@jupyter-widgets/base",
            "_view_module_version": "1.2.0",
            "_view_name": "LayoutView",
            "align_content": null,
            "align_items": null,
            "align_self": null,
            "border": null,
            "bottom": null,
            "display": null,
            "flex": null,
            "flex_flow": null,
            "grid_area": null,
            "grid_auto_columns": null,
            "grid_auto_flow": null,
            "grid_auto_rows": null,
            "grid_column": null,
            "grid_gap": null,
            "grid_row": null,
            "grid_template_areas": null,
            "grid_template_columns": null,
            "grid_template_rows": null,
            "height": null,
            "justify_content": null,
            "justify_items": null,
            "left": null,
            "margin": null,
            "max_height": null,
            "max_width": null,
            "min_height": null,
            "min_width": null,
            "object_fit": null,
            "object_position": null,
            "order": null,
            "overflow": null,
            "overflow_x": null,
            "overflow_y": null,
            "padding": null,
            "right": null,
            "top": null,
            "visibility": null,
            "width": null
          }
        },
        "64603924b99b4c6881bd0d0be9a488a0": {
          "model_module": "@jupyter-widgets/base",
          "model_name": "LayoutModel",
          "model_module_version": "1.2.0",
          "state": {
            "_model_module": "@jupyter-widgets/base",
            "_model_module_version": "1.2.0",
            "_model_name": "LayoutModel",
            "_view_count": null,
            "_view_module": "@jupyter-widgets/base",
            "_view_module_version": "1.2.0",
            "_view_name": "LayoutView",
            "align_content": null,
            "align_items": null,
            "align_self": null,
            "border": null,
            "bottom": null,
            "display": null,
            "flex": null,
            "flex_flow": null,
            "grid_area": null,
            "grid_auto_columns": null,
            "grid_auto_flow": null,
            "grid_auto_rows": null,
            "grid_column": null,
            "grid_gap": null,
            "grid_row": null,
            "grid_template_areas": null,
            "grid_template_columns": null,
            "grid_template_rows": null,
            "height": null,
            "justify_content": null,
            "justify_items": null,
            "left": null,
            "margin": null,
            "max_height": null,
            "max_width": null,
            "min_height": null,
            "min_width": null,
            "object_fit": null,
            "object_position": null,
            "order": null,
            "overflow": null,
            "overflow_x": null,
            "overflow_y": null,
            "padding": null,
            "right": null,
            "top": null,
            "visibility": null,
            "width": null
          }
        },
        "a916ffcf904142b49bfe996c6e6f4f35": {
          "model_module": "@jupyter-widgets/controls",
          "model_name": "DescriptionStyleModel",
          "model_module_version": "1.5.0",
          "state": {
            "_model_module": "@jupyter-widgets/controls",
            "_model_module_version": "1.5.0",
            "_model_name": "DescriptionStyleModel",
            "_view_count": null,
            "_view_module": "@jupyter-widgets/base",
            "_view_module_version": "1.2.0",
            "_view_name": "StyleView",
            "description_width": ""
          }
        },
        "89ae48c54d2640de914db7a8f0d064f3": {
          "model_module": "@jupyter-widgets/base",
          "model_name": "LayoutModel",
          "model_module_version": "1.2.0",
          "state": {
            "_model_module": "@jupyter-widgets/base",
            "_model_module_version": "1.2.0",
            "_model_name": "LayoutModel",
            "_view_count": null,
            "_view_module": "@jupyter-widgets/base",
            "_view_module_version": "1.2.0",
            "_view_name": "LayoutView",
            "align_content": null,
            "align_items": null,
            "align_self": null,
            "border": null,
            "bottom": null,
            "display": null,
            "flex": null,
            "flex_flow": null,
            "grid_area": null,
            "grid_auto_columns": null,
            "grid_auto_flow": null,
            "grid_auto_rows": null,
            "grid_column": null,
            "grid_gap": null,
            "grid_row": null,
            "grid_template_areas": null,
            "grid_template_columns": null,
            "grid_template_rows": null,
            "height": null,
            "justify_content": null,
            "justify_items": null,
            "left": null,
            "margin": null,
            "max_height": null,
            "max_width": null,
            "min_height": null,
            "min_width": null,
            "object_fit": null,
            "object_position": null,
            "order": null,
            "overflow": null,
            "overflow_x": null,
            "overflow_y": null,
            "padding": null,
            "right": null,
            "top": null,
            "visibility": null,
            "width": null
          }
        },
        "274a403176fd427aa99e388cbd226748": {
          "model_module": "@jupyter-widgets/controls",
          "model_name": "ProgressStyleModel",
          "model_module_version": "1.5.0",
          "state": {
            "_model_module": "@jupyter-widgets/controls",
            "_model_module_version": "1.5.0",
            "_model_name": "ProgressStyleModel",
            "_view_count": null,
            "_view_module": "@jupyter-widgets/base",
            "_view_module_version": "1.2.0",
            "_view_name": "StyleView",
            "bar_color": null,
            "description_width": ""
          }
        },
        "50ead42441c341998ac103b80174efbb": {
          "model_module": "@jupyter-widgets/base",
          "model_name": "LayoutModel",
          "model_module_version": "1.2.0",
          "state": {
            "_model_module": "@jupyter-widgets/base",
            "_model_module_version": "1.2.0",
            "_model_name": "LayoutModel",
            "_view_count": null,
            "_view_module": "@jupyter-widgets/base",
            "_view_module_version": "1.2.0",
            "_view_name": "LayoutView",
            "align_content": null,
            "align_items": null,
            "align_self": null,
            "border": null,
            "bottom": null,
            "display": null,
            "flex": null,
            "flex_flow": null,
            "grid_area": null,
            "grid_auto_columns": null,
            "grid_auto_flow": null,
            "grid_auto_rows": null,
            "grid_column": null,
            "grid_gap": null,
            "grid_row": null,
            "grid_template_areas": null,
            "grid_template_columns": null,
            "grid_template_rows": null,
            "height": null,
            "justify_content": null,
            "justify_items": null,
            "left": null,
            "margin": null,
            "max_height": null,
            "max_width": null,
            "min_height": null,
            "min_width": null,
            "object_fit": null,
            "object_position": null,
            "order": null,
            "overflow": null,
            "overflow_x": null,
            "overflow_y": null,
            "padding": null,
            "right": null,
            "top": null,
            "visibility": null,
            "width": null
          }
        },
        "f4aa5527404d4aa1b5dc1968b499801c": {
          "model_module": "@jupyter-widgets/controls",
          "model_name": "DescriptionStyleModel",
          "model_module_version": "1.5.0",
          "state": {
            "_model_module": "@jupyter-widgets/controls",
            "_model_module_version": "1.5.0",
            "_model_name": "DescriptionStyleModel",
            "_view_count": null,
            "_view_module": "@jupyter-widgets/base",
            "_view_module_version": "1.2.0",
            "_view_name": "StyleView",
            "description_width": ""
          }
        }
      }
    }
  },
  "cells": [
    {
      "cell_type": "code",
      "execution_count": 1,
      "metadata": {
        "colab": {
          "base_uri": "https://localhost:8080/"
        },
        "id": "AdZ1HdXkeUzj",
        "outputId": "3d369df4-073b-432f-ad65-bbaa6f7e11f7"
      },
      "outputs": [
        {
          "output_type": "stream",
          "name": "stdout",
          "text": [
            "Mounted at /content/drive\n"
          ]
        }
      ],
      "source": [
        "from google.colab import drive\n",
        "drive.mount('/content/drive')"
      ]
    },
    {
      "cell_type": "code",
      "source": [
        "import pandas as pd\n",
        "cic = pd.read_csv(\"/content/drive/MyDrive/cse366/Car_Insurance_Claim.csv\")\n",
        "cic.drop(['ID', 'OUTCOME'], axis=1, inplace=True)\n",
        "cic.info()"
      ],
      "metadata": {
        "colab": {
          "base_uri": "https://localhost:8080/"
        },
        "id": "oxqHTKACgYg7",
        "outputId": "3cae90b9-b7fc-4e12-9955-7776efe3971c"
      },
      "execution_count": 2,
      "outputs": [
        {
          "output_type": "stream",
          "name": "stdout",
          "text": [
            "<class 'pandas.core.frame.DataFrame'>\n",
            "RangeIndex: 10000 entries, 0 to 9999\n",
            "Data columns (total 17 columns):\n",
            " #   Column               Non-Null Count  Dtype  \n",
            "---  ------               --------------  -----  \n",
            " 0   AGE                  10000 non-null  object \n",
            " 1   GENDER               10000 non-null  object \n",
            " 2   RACE                 10000 non-null  object \n",
            " 3   DRIVING_EXPERIENCE   10000 non-null  object \n",
            " 4   EDUCATION            10000 non-null  object \n",
            " 5   INCOME               10000 non-null  object \n",
            " 6   CREDIT_SCORE         9018 non-null   float64\n",
            " 7   VEHICLE_OWNERSHIP    10000 non-null  float64\n",
            " 8   VEHICLE_YEAR         10000 non-null  object \n",
            " 9   MARRIED              10000 non-null  float64\n",
            " 10  CHILDREN             10000 non-null  float64\n",
            " 11  POSTAL_CODE          10000 non-null  int64  \n",
            " 12  ANNUAL_MILEAGE       9043 non-null   float64\n",
            " 13  VEHICLE_TYPE         10000 non-null  object \n",
            " 14  SPEEDING_VIOLATIONS  10000 non-null  int64  \n",
            " 15  DUIS                 10000 non-null  int64  \n",
            " 16  PAST_ACCIDENTS       10000 non-null  int64  \n",
            "dtypes: float64(5), int64(4), object(8)\n",
            "memory usage: 1.3+ MB\n"
          ]
        }
      ]
    },
    {
      "cell_type": "code",
      "source": [
        "cic[\"GENDER\"].hist()"
      ],
      "metadata": {
        "colab": {
          "base_uri": "https://localhost:8080/",
          "height": 447
        },
        "id": "jnOgfe996xxs",
        "outputId": "cdb635df-892c-4985-e1fc-6fc6322dd5f7"
      },
      "execution_count": 4,
      "outputs": [
        {
          "output_type": "execute_result",
          "data": {
            "text/plain": [
              "<Axes: >"
            ]
          },
          "metadata": {},
          "execution_count": 4
        },
        {
          "output_type": "display_data",
          "data": {
            "text/plain": [
              "<Figure size 640x480 with 1 Axes>"
            ],
            "image/png": "[encoded data removed]"
          },
          "metadata": {}
        }
      ]
    },
    {
      "cell_type": "code",
      "source": [
        "import seaborn as sns\n",
        "sns.heatmap(cic.corr(), vmin=-1, vmax=1, annot=True);"
      ],
      "metadata": {
        "id": "WCs_bajoCZI5",
        "colab": {
          "base_uri": "https://localhost:8080/",
          "height": 637
        },
        "outputId": "d038ccf6-cfb5-490d-d323-c32e61f2977c"
      },
      "execution_count": 8,
      "outputs": [
        {
          "output_type": "stream",
          "name": "stderr",
          "text": [
            "<ipython-input-8-625fb2b58f80>:2: FutureWarning: The default value of numeric_only in DataFrame.corr is deprecated. In a future version, it will default to False. Select only valid columns or specify the value of numeric_only to silence this warning.\n",
            "  sns.heatmap(cic.corr(), vmin=-1, vmax=1, annot=True);\n"
          ]
        },
        {
          "output_type": "display_data",
          "data": {
            "text/plain": [
              "<Figure size 640x480 with 2 Axes>"
            ],
            "image/png": "[encoded data removed]"
          },
          "metadata": {}
        }
      ]
    },
    {
      "cell_type": "markdown",
      "source": [
        "# **NAIVE BAYES**"
      ],
      "metadata": {
        "id": "kSeL0osiLcw4"
      }
    },
    {
      "cell_type": "code",
      "source": [
        "\n",
        "from sklearn.model_selection import train_test_split\n",
        "newDF = cic.copy()\n",
        "x = newDF[\n",
        "    ['AGE', 'GENDER', 'RACE',\t'DRIVING_EXPERIENCE',\t'EDUCATION', 'INCOME', 'CREDIT_SCORE', 'VEHICLE_OWNERSHIP',\t'VEHICLE_YEAR',\t'MARRIED', 'CHILDREN', 'POSTAL_CODE',\t'ANNUAL_MILEAGE',\t'VEHICLE_TYPE',\t'SPEEDING_VIOLATIONS', 'DUIS', 'PAST_ACCIDENTS']\n",
        "    ]\n",
        "y = newDF[['GENDER']]\n",
        "\n",
        "x_train, x_test, y_train, y_test = train_test_split(x, y, test_size = 15/100, random_state = 10)"
      ],
      "metadata": {
        "id": "Zo67nPynniHb"
      },
      "execution_count": null,
      "outputs": []
    },
    {
      "cell_type": "code",
      "source": [
        "import numpy as np\n",
        "\n",
        "def naive_bayes(x_train, AGE, RACE,\tDRIVING_EXPERIENCE,\tEDUCATION,\tINCOME,\tCREDIT_SCORE,\tVEHICLE_OWNERSHIP, VEHICLE_YEAR, MARRIED, CHILDREN, POSTAL_CODE, ANNUAL_MILEAGE, VEHICLE_TYPE, SPEEDING_VIOLATIONS, DUIS, PAST_ACCIDENTS):\n",
        "  prior_gender_male = x_train[x_train['GENDER'] =='male'].count()[0] / len(x_train)\n",
        "  prior_gender_female = x_train[x_train['GENDER'] =='female'].count()[0] / len(x_train)\n",
        "\n",
        "  annual_mil_mean = x_train[x_train['GENDER'] == 'male']['ANNUAL_MILEAGE'].mean()\n",
        "  annual_mil_std = x_train[x_train['GENDER'] == 'male']['ANNUAL_MILEAGE'].std()\n",
        "  annual_mil_p = (1 / (np.sqrt(2 * np.pi) * annual_mil_std)) * np.exp(-((ANNUAL_MILEAGE - annual_mil_mean) ** 2 / (2 * annual_mil_std ** 2)))\n",
        "\n",
        "  CREDIT_SCORE_mean = x_train[x_train['GENDER'] == 'male']['CREDIT_SCORE'].mean()\n",
        "  CREDIT_SCORE_std = x_train[x_train['GENDER'] == 'male']['CREDIT_SCORE'].std()\n",
        "  CREDIT_SCORE_p = (1 / (np.sqrt(2 * np.pi) * CREDIT_SCORE_std)) * np.exp(-((CREDIT_SCORE - CREDIT_SCORE_mean) ** 2 / (2 * CREDIT_SCORE_std ** 2)))\n",
        "  \n",
        "  annual_mil_mean_fem = x_train[x_train['GENDER'] == 'female']['ANNUAL_MILEAGE'].mean()\n",
        "  annual_mil_std_fem = x_train[x_train['GENDER'] == 'female']['ANNUAL_MILEAGE'].std()\n",
        "  annual_mil_p_fem = (1 / (np.sqrt(2 * np.pi) * annual_mil_std_fem)) * np.exp(-((ANNUAL_MILEAGE - annual_mil_mean_fem) ** 2 / (2 * annual_mil_std_fem ** 2)))\n",
        "\n",
        "  CREDIT_SCORE_mean_fem = x_train[x_train['GENDER'] == 'female']['CREDIT_SCORE'].mean()\n",
        "  CREDIT_SCORE_std_fem = x_train[x_train['GENDER'] == 'female']['CREDIT_SCORE'].std()\n",
        "  CREDIT_SCORE_p_fem = (1 / (np.sqrt(2 * np.pi) * CREDIT_SCORE_std_fem)) * np.exp(-((CREDIT_SCORE - CREDIT_SCORE_mean_fem) ** 2 / (2 * CREDIT_SCORE_std_fem ** 2)))\n",
        "\n",
        "  gender_AGE = x_train[(x_train['AGE'] == AGE) & (x_train['GENDER'] == 'male')].count()[0] / x_train[x_train['GENDER'] == 'male'].count()[0]\n",
        "  gender_RACE = x_train[(x_train['RACE'] == RACE) & (x_train['GENDER'] == 'male')].count()[0] / x_train[x_train['GENDER'] == 'male'].count()[0]\n",
        "  gender_DRIVING_EXPERIENCE = x_train[(x_train['DRIVING_EXPERIENCE'] == DRIVING_EXPERIENCE) & (x_train['GENDER']== 'male')].count()[0] / x_train[x_train['GENDER'] == 'male'].count()[0]\n",
        "  gender_EDUCATION = x_train[(x_train['EDUCATION'] == EDUCATION) & (x_train['GENDER'] == 'male')].count()[0] / x_train[x_train['GENDER'] == 'male'].count()[0]\n",
        "  gender_INCOME = x_train[(x_train['INCOME'] == INCOME) & (x_train['GENDER'] == 'male')].count()[0] / x_train[x_train['GENDER'] == 'male'].count()[0]\n",
        "  gender_VEHICLE_OWNERSHIP = x_train[(x_train['VEHICLE_OWNERSHIP'] == VEHICLE_OWNERSHIP) & (x_train['GENDER'] == 'male')].count()[0] / x_train[x_train['GENDER'] == 'male'].count()[0]\n",
        "  gender_VEHICLE_YEAR = x_train[(x_train['VEHICLE_YEAR'] == VEHICLE_YEAR) & (x_train['GENDER'] == 'male')].count()[0] / x_train[x_train['GENDER'] == 'male'].count()[0]\n",
        "  gender_MARRIED = x_train[(x_train['MARRIED'] ==\tMARRIED) & (x_train['GENDER'] == 'male')].count()[0] / x_train[x_train['GENDER'] == 'male'].count()[0]\n",
        "\n",
        "  gender_CHILDREN = x_train[(x_train['CHILDREN'] == CHILDREN) & (x_train['GENDER'] == 'male')].count()[0] / x_train[x_train['GENDER'] == 'male'].count()[0]\n",
        "  gender_POSTAL_CODE = x_train[(x_train['POSTAL_CODE'] == POSTAL_CODE) & (x_train['GENDER'] == 'male')].count()[0] / x_train[x_train['GENDER'] == 'male'].count()[0]\n",
        "  gender_VEHICLE_TYPE = x_train[(x_train['VEHICLE_TYPE']== \tVEHICLE_TYPE) & (x_train['GENDER']== 'male')].count()[0] / x_train[x_train['GENDER']== 'male'].count()[0]\n",
        "  gender_SPEEDING_VIOLATIONS = x_train[(x_train['SPEEDING_VIOLATIONS'] == SPEEDING_VIOLATIONS) & (x_train['GENDER'] == 'male')].count()[0] / x_train[x_train['GENDER'] == 'male'].count()[0]\n",
        "  gender_DUIS = x_train[(x_train['DUIS'] == DUIS) & (x_train['GENDER'] == 'male')].count()[0] / x_train[x_train['GENDER'] == 'male'].count()[0]\n",
        "  gender_PAST_ACCIDENTS = x_train[(x_train['PAST_ACCIDENTS'] ==\tPAST_ACCIDENTS) & (x_train['GENDER'] == 'male')].count()[0] / x_train[x_train['GENDER'] == 'male'].count()[0]\n",
        "\n",
        "  gender_AGE_fem = x_train[(x_train['AGE'] == AGE) & (x_train['GENDER'] == 'female')].count()[0] / x_train[x_train['GENDER'] == 'female'].count()[0]\n",
        "  gender_RACE_fem = x_train[(x_train['RACE'] == RACE) & (x_train['GENDER'] == 'female')].count()[0] / x_train[x_train['GENDER'] == 'female'].count()[0]\n",
        "  gender_DRIVING_EXPERIENCE_fem = x_train[(x_train['DRIVING_EXPERIENCE'] == DRIVING_EXPERIENCE) & (x_train['GENDER'] == 'female')].count()[0] / x_train[x_train['GENDER'] == 'female'].count()[0]\n",
        "  gender_EDUCATION_fem = x_train[(x_train['EDUCATION'] == EDUCATION) & (x_train['GENDER'] == 'female')].count()[0] / x_train[x_train['GENDER'] == 'female'].count()[0]\n",
        "  gender_INCOME_fem = x_train[(x_train['INCOME'] == INCOME) & (x_train['GENDER'] == 'female')].count()[0] / x_train[x_train['GENDER'] == 'female'].count()[0]\n",
        "  gender_VEHICLE_OWNERSHIP_fem = x_train[(x_train['VEHICLE_OWNERSHIP'] == VEHICLE_OWNERSHIP) & (x_train['GENDER']== 'female')].count()[0] / x_train[x_train['GENDER'] == 'female'].count()[0]\n",
        "  gender_VEHICLE_YEAR_fem = x_train[(x_train['VEHICLE_YEAR']== VEHICLE_YEAR) & (x_train['GENDER']== 'female')].count()[0] / x_train[x_train['GENDER']== 'female'].count()[0]\n",
        "  gender_MARRIED_fem = x_train[(x_train['MARRIED']== \tMARRIED) & (x_train['GENDER']== 'female')].count()[0] / x_train[x_train['GENDER']== 'female'].count()[0]\n",
        "\n",
        "  gender_CHILDREN_fem = x_train[(x_train['CHILDREN']== CHILDREN) & (x_train['GENDER']== 'female')].count()[0] / x_train[x_train['GENDER']== 'female'].count()[0]\n",
        "  gender_POSTAL_CODE_fem = x_train[(x_train['POSTAL_CODE']== POSTAL_CODE) & (x_train['GENDER']== 'female')].count()[0] / x_train[x_train['GENDER']== 'female'].count()[0]\n",
        "  gender_VEHICLE_TYPE_fem = x_train[(x_train['VEHICLE_TYPE']== \tVEHICLE_TYPE) & (x_train['GENDER']== 'female')].count()[0] / x_train[x_train['GENDER']== 'female'].count()[0]\n",
        "  gender_SPEEDING_VIOLATIONS_fem = x_train[(x_train['SPEEDING_VIOLATIONS']== SPEEDING_VIOLATIONS) & (x_train['GENDER']== 'female')].count()[0] / x_train[x_train['GENDER']== 'female'].count()[0]\n",
        "  gender_DUIS_fem = x_train[(x_train['DUIS']== DUIS) & (x_train['GENDER']== 'female')].count()[0] / x_train[x_train['GENDER']== 'female'].count()[0]\n",
        "  gender_PAST_ACCIDENTS_fem = x_train[(x_train['PAST_ACCIDENTS']== \tPAST_ACCIDENTS) & (x_train['GENDER']== 'female')].count()[0] / x_train[x_train['GENDER']== 'female'].count()[0]\n",
        "\n",
        "\n",
        "  posterior_male = prior_gender_male * annual_mil_p * CREDIT_SCORE_p * gender_AGE * gender_RACE * gender_DRIVING_EXPERIENCE * gender_EDUCATION * gender_INCOME * gender_VEHICLE_OWNERSHIP * gender_VEHICLE_YEAR * gender_MARRIED * gender_CHILDREN * gender_POSTAL_CODE * gender_VEHICLE_TYPE * gender_SPEEDING_VIOLATIONS * gender_DUIS * gender_PAST_ACCIDENTS\n",
        "  posterior_female = prior_gender_female * annual_mil_p_fem * CREDIT_SCORE_p_fem * gender_AGE_fem * gender_RACE_fem * gender_DRIVING_EXPERIENCE_fem * gender_EDUCATION_fem * gender_INCOME_fem * gender_VEHICLE_OWNERSHIP_fem * gender_VEHICLE_YEAR_fem * gender_MARRIED_fem * gender_CHILDREN_fem * gender_POSTAL_CODE_fem * gender_VEHICLE_TYPE_fem * gender_SPEEDING_VIOLATIONS_fem * gender_DUIS_fem * gender_PAST_ACCIDENTS_fem\n",
        "\n",
        "  if posterior_male > posterior_female:\n",
        "    predicted_quality = 'male'\n",
        "  else:\n",
        "    predicted_quality = 'female'\n",
        "\n",
        "  return predicted_quality"
      ],
      "metadata": {
        "id": "5wbDdb-0L8k1"
      },
      "execution_count": null,
      "outputs": []
    },
    {
      "cell_type": "code",
      "source": [
        "from tqdm._tqdm_notebook import tqdm_notebook as tqdm\n",
        "quality_pred = []\n",
        "\n",
        "for i, data in tqdm(x_test.iterrows()):\n",
        "  AGE = data['AGE']\n",
        "  RACE = data['RACE']\n",
        "  DRIVING_EXPERIENCE = data['DRIVING_EXPERIENCE']\n",
        "  EDUCATION = data['EDUCATION']\n",
        "  INCOME = data['INCOME']\n",
        "  CREDIT_SCORE  = data['CREDIT_SCORE']\n",
        "  VEHICLE_OWNERSHIP = data['VEHICLE_OWNERSHIP']\n",
        "  VEHICLE_YEAR = data['VEHICLE_YEAR']\n",
        "  MARRIED = data['MARRIED']\n",
        "  CHILDREN = data['CHILDREN']\n",
        "  POSTAL_CODE = data['POSTAL_CODE']\n",
        "  ANNUAL_MILEAGE  = data['ANNUAL_MILEAGE']\n",
        "  VEHICLE_TYPE = data['VEHICLE_TYPE']\n",
        "  SPEEDING_VIOLATIONS = data['SPEEDING_VIOLATIONS']\n",
        "  DUIS = data['DUIS']\n",
        "  PAST_ACCIDENTS = data['PAST_ACCIDENTS']\n",
        "\n",
        "  pred = naive_bayes(x_train, AGE, RACE,\tDRIVING_EXPERIENCE,\tEDUCATION,\tINCOME,\tCREDIT_SCORE,\tVEHICLE_OWNERSHIP, VEHICLE_YEAR, MARRIED, CHILDREN, POSTAL_CODE, ANNUAL_MILEAGE, VEHICLE_TYPE, SPEEDING_VIOLATIONS, DUIS, PAST_ACCIDENTS)\n",
        "  quality_pred.append(pred)\n"
      ],
      "metadata": {
        "id": "OMt_4dgGVnbn",
        "colab": {
          "base_uri": "https://localhost:8080/",
          "height": 101,
          "referenced_widgets": [
            "89bc0f599266432a8997684ace0eaa35",
            "28b26050760147c8b04ca3a1bfc088bd",
            "50a6a4901bf045b7bb1c9a5b1dca8365",
            "865bdf3833f546f4ae7445f79b05f5c9",
            "fc0114cdd2af4bdc977125eb287e7723",
            "d3e48985d552446ab4857d8437c7e6d2",
            "8ff2fb6abf364b0aafbef9aaaecee666",
            "e8b0c2dfcd9e477cb61cc9c30c8f261b",
            "611abb99bbb742a8a78bdf7e668029e8",
            "e856f84fff214459982e6eee64a99da1",
            "0351050a9ef943e7ace45e58f4cbb65a"
          ]
        },
        "outputId": "78fa02ff-66fa-4b95-a0d6-aa66b2b53bdf"
      },
      "execution_count": null,
      "outputs": [
        {
          "output_type": "stream",
          "name": "stderr",
          "text": [
            "<ipython-input-12-0d8eba775dee>:1: TqdmDeprecationWarning: This function will be removed in tqdm==5.0.0\n",
            "Please use `tqdm.notebook.*` instead of `tqdm._tqdm_notebook.*`\n",
            "  from tqdm._tqdm_notebook import tqdm_notebook as tqdm\n"
          ]
        },
        {
          "output_type": "display_data",
          "data": {
            "text/plain": [
              "0it [00:00, ?it/s]"
            ],
            "application/vnd.jupyter.widget-view+json": {
              "version_major": 2,
              "version_minor": 0,
              "model_id": "89bc0f599266432a8997684ace0eaa35"
            }
          },
          "metadata": {}
        }
      ]
    },
    {
      "cell_type": "code",
      "source": [
        "from sklearn.metrics import confusion_matrix, ConfusionMatrixDisplay, classification_report\n",
        "import matplotlib.pyplot as plt\n",
        "y_test_arr = y_test['GENDER'].values\n",
        "y_pred = np.array(quality_pred)\n",
        "cm = confusion_matrix(y_test, y_pred)\n",
        "disp = ConfusionMatrixDisplay(confusion_matrix=cm)\n",
        "disp.plot()\n",
        "plt.show()"
      ],
      "metadata": {
        "id": "UPHsCoNjXVc2",
        "colab": {
          "base_uri": "https://localhost:8080/",
          "height": 449
        },
        "outputId": "7a56a6ea-c14b-4051-893b-3c0da59236fd"
      },
      "execution_count": null,
      "outputs": [
        {
          "output_type": "display_data",
          "data": {
            "text/plain": [
              "<Figure size 640x480 with 2 Axes>"
            ],
            "image/png": "[encoded data removed]"
          },
          "metadata": {}
        }
      ]
    },
    {
      "cell_type": "code",
      "source": [
        "print(classification_report(y_test, y_pred))"
      ],
      "metadata": {
        "colab": {
          "base_uri": "https://localhost:8080/"
        },
        "id": "nlMdS_YqMmPl",
        "outputId": "fc5a1f29-89e0-4673-be60-6ae7cf3bc0da"
      },
      "execution_count": null,
      "outputs": [
        {
          "output_type": "stream",
          "name": "stdout",
          "text": [
            "              precision    recall  f1-score   support\n",
            "\n",
            "      female       0.58      0.82      0.68       750\n",
            "        male       0.69      0.41      0.51       750\n",
            "\n",
            "    accuracy                           0.61      1500\n",
            "   macro avg       0.63      0.61      0.59      1500\n",
            "weighted avg       0.63      0.61      0.59      1500\n",
            "\n"
          ]
        }
      ]
    },
    {
      "cell_type": "markdown",
      "source": [
        "# **PERCEPTRON**"
      ],
      "metadata": {
        "id": "Z8Cji5uPLXFI"
      }
    },
    {
      "cell_type": "code",
      "source": [
        "df_cat = pd.get_dummies(cic)\n",
        "df_cat.info()"
      ],
      "metadata": {
        "colab": {
          "base_uri": "https://localhost:8080/"
        },
        "id": "5zpCdJk8LCaO",
        "outputId": "9b619010-b34b-44ff-f385-0dae5d9e0bb4"
      },
      "execution_count": null,
      "outputs": [
        {
          "output_type": "stream",
          "name": "stdout",
          "text": [
            "<class 'pandas.core.frame.DataFrame'>\n",
            "RangeIndex: 10000 entries, 0 to 9999\n",
            "Data columns (total 32 columns):\n",
            " #   Column                     Non-Null Count  Dtype  \n",
            "---  ------                     --------------  -----  \n",
            " 0   CREDIT_SCORE               9018 non-null   float64\n",
            " 1   VEHICLE_OWNERSHIP          10000 non-null  float64\n",
            " 2   MARRIED                    10000 non-null  float64\n",
            " 3   CHILDREN                   10000 non-null  float64\n",
            " 4   POSTAL_CODE                10000 non-null  int64  \n",
            " 5   ANNUAL_MILEAGE             9043 non-null   float64\n",
            " 6   SPEEDING_VIOLATIONS        10000 non-null  int64  \n",
            " 7   DUIS                       10000 non-null  int64  \n",
            " 8   PAST_ACCIDENTS             10000 non-null  int64  \n",
            " 9   AGE_16-25                  10000 non-null  uint8  \n",
            " 10  AGE_26-39                  10000 non-null  uint8  \n",
            " 11  AGE_40-64                  10000 non-null  uint8  \n",
            " 12  AGE_65+                    10000 non-null  uint8  \n",
            " 13  GENDER_female              10000 non-null  uint8  \n",
            " 14  GENDER_male                10000 non-null  uint8  \n",
            " 15  RACE_majority              10000 non-null  uint8  \n",
            " 16  RACE_minority              10000 non-null  uint8  \n",
            " 17  DRIVING_EXPERIENCE_0-9y    10000 non-null  uint8  \n",
            " 18  DRIVING_EXPERIENCE_10-19y  10000 non-null  uint8  \n",
            " 19  DRIVING_EXPERIENCE_20-29y  10000 non-null  uint8  \n",
            " 20  DRIVING_EXPERIENCE_30y+    10000 non-null  uint8  \n",
            " 21  EDUCATION_high school      10000 non-null  uint8  \n",
            " 22  EDUCATION_none             10000 non-null  uint8  \n",
            " 23  EDUCATION_university       10000 non-null  uint8  \n",
            " 24  INCOME_middle class        10000 non-null  uint8  \n",
            " 25  INCOME_poverty             10000 non-null  uint8  \n",
            " 26  INCOME_upper class         10000 non-null  uint8  \n",
            " 27  INCOME_working class       10000 non-null  uint8  \n",
            " 28  VEHICLE_YEAR_after 2015    10000 non-null  uint8  \n",
            " 29  VEHICLE_YEAR_before 2015   10000 non-null  uint8  \n",
            " 30  VEHICLE_TYPE_sedan         10000 non-null  uint8  \n",
            " 31  VEHICLE_TYPE_sports car    10000 non-null  uint8  \n",
            "dtypes: float64(5), int64(4), uint8(23)\n",
            "memory usage: 927.9 KB\n"
          ]
        }
      ]
    },
    {
      "cell_type": "code",
      "source": [
        "df_cat['CREDIT_SCORE'].fillna(value=df_cat['CREDIT_SCORE'].mean(), inplace=True)\n",
        "df_cat['ANNUAL_MILEAGE'].fillna(value=df_cat['ANNUAL_MILEAGE'].mean(), inplace=True)\n",
        "df_cat.info()"
      ],
      "metadata": {
        "colab": {
          "base_uri": "https://localhost:8080/"
        },
        "id": "tznqk7KBLh8B",
        "outputId": "a163fb89-7c06-4005-b48e-f1e8a5bcd3f6"
      },
      "execution_count": null,
      "outputs": [
        {
          "output_type": "stream",
          "name": "stdout",
          "text": [
            "<class 'pandas.core.frame.DataFrame'>\n",
            "RangeIndex: 10000 entries, 0 to 9999\n",
            "Data columns (total 32 columns):\n",
            " #   Column                     Non-Null Count  Dtype  \n",
            "---  ------                     --------------  -----  \n",
            " 0   CREDIT_SCORE               10000 non-null  float64\n",
            " 1   VEHICLE_OWNERSHIP          10000 non-null  float64\n",
            " 2   MARRIED                    10000 non-null  float64\n",
            " 3   CHILDREN                   10000 non-null  float64\n",
            " 4   POSTAL_CODE                10000 non-null  int64  \n",
            " 5   ANNUAL_MILEAGE             10000 non-null  float64\n",
            " 6   SPEEDING_VIOLATIONS        10000 non-null  int64  \n",
            " 7   DUIS                       10000 non-null  int64  \n",
            " 8   PAST_ACCIDENTS             10000 non-null  int64  \n",
            " 9   AGE_16-25                  10000 non-null  uint8  \n",
            " 10  AGE_26-39                  10000 non-null  uint8  \n",
            " 11  AGE_40-64                  10000 non-null  uint8  \n",
            " 12  AGE_65+                    10000 non-null  uint8  \n",
            " 13  GENDER_female              10000 non-null  uint8  \n",
            " 14  GENDER_male                10000 non-null  uint8  \n",
            " 15  RACE_majority              10000 non-null  uint8  \n",
            " 16  RACE_minority              10000 non-null  uint8  \n",
            " 17  DRIVING_EXPERIENCE_0-9y    10000 non-null  uint8  \n",
            " 18  DRIVING_EXPERIENCE_10-19y  10000 non-null  uint8  \n",
            " 19  DRIVING_EXPERIENCE_20-29y  10000 non-null  uint8  \n",
            " 20  DRIVING_EXPERIENCE_30y+    10000 non-null  uint8  \n",
            " 21  EDUCATION_high school      10000 non-null  uint8  \n",
            " 22  EDUCATION_none             10000 non-null  uint8  \n",
            " 23  EDUCATION_university       10000 non-null  uint8  \n",
            " 24  INCOME_middle class        10000 non-null  uint8  \n",
            " 25  INCOME_poverty             10000 non-null  uint8  \n",
            " 26  INCOME_upper class         10000 non-null  uint8  \n",
            " 27  INCOME_working class       10000 non-null  uint8  \n",
            " 28  VEHICLE_YEAR_after 2015    10000 non-null  uint8  \n",
            " 29  VEHICLE_YEAR_before 2015   10000 non-null  uint8  \n",
            " 30  VEHICLE_TYPE_sedan         10000 non-null  uint8  \n",
            " 31  VEHICLE_TYPE_sports car    10000 non-null  uint8  \n",
            "dtypes: float64(5), int64(4), uint8(23)\n",
            "memory usage: 927.9 KB\n"
          ]
        }
      ]
    },
    {
      "cell_type": "code",
      "source": [
        "df_dropped = df_cat.drop(['GENDER_female', 'GENDER_male'], axis=1)\n",
        "for column in df_dropped.columns:\n",
        "  df_dropped[column] = pd.to_numeric(df_dropped[column])\n",
        "df_dropped.info()"
      ],
      "metadata": {
        "colab": {
          "base_uri": "https://localhost:8080/"
        },
        "id": "pe24TR-bLp0u",
        "outputId": "1bdd384b-a42d-4dde-cf44-8e949685997f"
      },
      "execution_count": null,
      "outputs": [
        {
          "output_type": "stream",
          "name": "stdout",
          "text": [
            "<class 'pandas.core.frame.DataFrame'>\n",
            "RangeIndex: 10000 entries, 0 to 9999\n",
            "Data columns (total 30 columns):\n",
            " #   Column                     Non-Null Count  Dtype  \n",
            "---  ------                     --------------  -----  \n",
            " 0   CREDIT_SCORE               10000 non-null  float64\n",
            " 1   VEHICLE_OWNERSHIP          10000 non-null  float64\n",
            " 2   MARRIED                    10000 non-null  float64\n",
            " 3   CHILDREN                   10000 non-null  float64\n",
            " 4   POSTAL_CODE                10000 non-null  int64  \n",
            " 5   ANNUAL_MILEAGE             10000 non-null  float64\n",
            " 6   SPEEDING_VIOLATIONS        10000 non-null  int64  \n",
            " 7   DUIS                       10000 non-null  int64  \n",
            " 8   PAST_ACCIDENTS             10000 non-null  int64  \n",
            " 9   AGE_16-25                  10000 non-null  uint8  \n",
            " 10  AGE_26-39                  10000 non-null  uint8  \n",
            " 11  AGE_40-64                  10000 non-null  uint8  \n",
            " 12  AGE_65+                    10000 non-null  uint8  \n",
            " 13  RACE_majority              10000 non-null  uint8  \n",
            " 14  RACE_minority              10000 non-null  uint8  \n",
            " 15  DRIVING_EXPERIENCE_0-9y    10000 non-null  uint8  \n",
            " 16  DRIVING_EXPERIENCE_10-19y  10000 non-null  uint8  \n",
            " 17  DRIVING_EXPERIENCE_20-29y  10000 non-null  uint8  \n",
            " 18  DRIVING_EXPERIENCE_30y+    10000 non-null  uint8  \n",
            " 19  EDUCATION_high school      10000 non-null  uint8  \n",
            " 20  EDUCATION_none             10000 non-null  uint8  \n",
            " 21  EDUCATION_university       10000 non-null  uint8  \n",
            " 22  INCOME_middle class        10000 non-null  uint8  \n",
            " 23  INCOME_poverty             10000 non-null  uint8  \n",
            " 24  INCOME_upper class         10000 non-null  uint8  \n",
            " 25  INCOME_working class       10000 non-null  uint8  \n",
            " 26  VEHICLE_YEAR_after 2015    10000 non-null  uint8  \n",
            " 27  VEHICLE_YEAR_before 2015   10000 non-null  uint8  \n",
            " 28  VEHICLE_TYPE_sedan         10000 non-null  uint8  \n",
            " 29  VEHICLE_TYPE_sports car    10000 non-null  uint8  \n",
            "dtypes: float64(5), int64(4), uint8(21)\n",
            "memory usage: 908.3 KB\n"
          ]
        }
      ]
    },
    {
      "cell_type": "code",
      "source": [
        "from sklearn.preprocessing import MinMaxScaler, StandardScaler\n",
        "\n",
        "df_dropped_norm = MinMaxScaler().fit_transform(df_dropped)"
      ],
      "metadata": {
        "id": "fXx0_nrnLs01"
      },
      "execution_count": null,
      "outputs": []
    },
    {
      "cell_type": "code",
      "source": [
        "from sklearn.model_selection import train_test_split\n",
        "X = df_dropped_norm\n",
        "y = df_cat[['GENDER_male']]\n",
        "\n",
        "x_train, x_test, y_train, y_test = train_test_split(X, y, test_size = 0.15, random_state = 0, stratify=y)"
      ],
      "metadata": {
        "id": "H9tBzfHuLyOf"
      },
      "execution_count": null,
      "outputs": []
    },
    {
      "cell_type": "code",
      "source": [
        "import numpy as np\n",
        "from tqdm._tqdm_notebook import tqdm_notebook as tqdm\n",
        "\n",
        "def perceptron(X, y_true, epochs, lr):\n",
        "    # Initialize weights and bias\n",
        "    n_features = X.shape[1]\n",
        "    W = np.random.rand(n_features, 1)\n",
        "    b = np.random.rand(1)\n",
        "    z_list = []\n",
        "\n",
        "    for epoch in tqdm(range(epochs)):\n",
        "        for x, y in zip(X, y_true.values):\n",
        "          try:\n",
        "              # Compute weighted sum\n",
        "              z = np.dot(x, W) + b\n",
        "              z_list.append(z)\n",
        "\n",
        "              # Apply activation function\n",
        "              y_pred = activation_function(z)\n",
        "\n",
        "              # Calculate error\n",
        "              error = y - y_pred\n",
        "\n",
        "              # Update weights and bias\n",
        "              delta_w = lr * error * x.reshape(-1, 1)\n",
        "              delta_b = lr * error\n",
        "\n",
        "              W += delta_w\n",
        "              b += delta_b\n",
        "          except TypeError:\n",
        "              pass\n",
        "\n",
        "    return W, b, z_list\n",
        "\n",
        "def activation_function(x):\n",
        "    return np.where(x >= 0.5, 1, 0)\n",
        "\n",
        "epochs = 200\n",
        "learning_rate = 0.1\n",
        "weights, bias, z = perceptron(x_train, y_train, epochs, learning_rate)\n",
        "\n",
        "predictions = activation_function(np.dot(x_test, weights) + bias)"
      ],
      "metadata": {
        "colab": {
          "base_uri": "https://localhost:8080/",
          "height": 49,
          "referenced_widgets": [
            "18bf79a409924fe69cd6ed0a9c32639c",
            "3fb099d05af54c4eb2d8dd705e8242cb",
            "10e649bac1444b23b4a3ade2d39ed07d",
            "53fa0110f4744baab09d41807fe99e46",
            "04f32b8ffba64c40b3a87d818b7292a2",
            "64603924b99b4c6881bd0d0be9a488a0",
            "a916ffcf904142b49bfe996c6e6f4f35",
            "89ae48c54d2640de914db7a8f0d064f3",
            "274a403176fd427aa99e388cbd226748",
            "50ead42441c341998ac103b80174efbb",
            "f4aa5527404d4aa1b5dc1968b499801c"
          ]
        },
        "id": "Rm7XHf3rLza5",
        "outputId": "f4735e9c-6380-4ab8-a979-ab4e05db0968"
      },
      "execution_count": null,
      "outputs": [
        {
          "output_type": "display_data",
          "data": {
            "text/plain": [
              "  0%|          | 0/200 [00:00<?, ?it/s]"
            ],
            "application/vnd.jupyter.widget-view+json": {
              "version_major": 2,
              "version_minor": 0,
              "model_id": "18bf79a409924fe69cd6ed0a9c32639c"
            }
          },
          "metadata": {}
        }
      ]
    },
    {
      "cell_type": "code",
      "source": [
        "from sklearn.metrics import confusion_matrix, ConfusionMatrixDisplay, classification_report\n",
        "import matplotlib.pyplot as plt\n",
        "cm = confusion_matrix(y_test, predictions)\n",
        "disp = ConfusionMatrixDisplay(confusion_matrix=cm)\n",
        "disp.plot()\n",
        "plt.show()"
      ],
      "metadata": {
        "colab": {
          "base_uri": "https://localhost:8080/",
          "height": 449
        },
        "id": "_Jp6AbNVMAkQ",
        "outputId": "3e3aafbb-a51f-4058-e795-717879968cc5"
      },
      "execution_count": null,
      "outputs": [
        {
          "output_type": "display_data",
          "data": {
            "text/plain": [
              "<Figure size 640x480 with 2 Axes>"
            ],
            "image/png": "[encoded data removed]"
          },
          "metadata": {}
        }
      ]
    },
    {
      "cell_type": "code",
      "source": [
        "print(classification_report(y_test, predictions))"
      ],
      "metadata": {
        "colab": {
          "base_uri": "https://localhost:8080/"
        },
        "id": "GmD7YkX8MD1N",
        "outputId": "bde3f104-5e73-41b9-d763-2adf05e9e16f"
      },
      "execution_count": null,
      "outputs": [
        {
          "output_type": "stream",
          "name": "stdout",
          "text": [
            "              precision    recall  f1-score   support\n",
            "\n",
            "           0       0.63      0.53      0.58       752\n",
            "           1       0.59      0.69      0.64       748\n",
            "\n",
            "    accuracy                           0.61      1500\n",
            "   macro avg       0.61      0.61      0.61      1500\n",
            "weighted avg       0.61      0.61      0.61      1500\n",
            "\n"
          ]
        }
      ]
    }
  ]
}